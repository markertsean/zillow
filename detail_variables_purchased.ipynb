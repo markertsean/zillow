{
 "cells": [
  {
   "cell_type": "code",
   "execution_count": 1,
   "metadata": {
    "collapsed": true
   },
   "outputs": [],
   "source": [
    "import numpy   as np\n",
    "import pandas  as pd\n",
    "import seaborn as sns\n",
    "\n",
    "import df_visualizations as dv\n",
    "import remap_values as rv\n",
    "\n",
    "import matplotlib.pyplot as plt\n",
    "\n",
    "from sklearn.decomposition import PCA"
   ]
  },
  {
   "cell_type": "code",
   "execution_count": 2,
   "metadata": {
    "collapsed": true
   },
   "outputs": [],
   "source": [
    "%matplotlib inline\n",
    "plt.style.use( 'dark_background' )\n",
    "plt.rcParams['figure.figsize'] = (14,10)"
   ]
  },
  {
   "cell_type": "code",
   "execution_count": 3,
   "metadata": {
    "collapsed": true
   },
   "outputs": [],
   "source": [
    "use_list = [\n",
    "    'logerror','transactiondate','airconditioningtypeid','pooltypeid10', # Hotub\n",
    "    'poolsizesum','garagetotalsqft','calculatedbathnbr','fireplacecnt',\n",
    "    'finishedsquarefeet12','lotsizesquarefeet','taxdelinquencyflag','yearbuilt',\n",
    "    'structuretaxvaluedollarcnt','taxvaluedollarcnt','landtaxvaluedollarcnt','taxamount',\n",
    "    'decktypeid','numberofstories','buildingqualitytypeid','unitcnt','roomcnt' ]"
   ]
  },
  {
   "cell_type": "code",
   "execution_count": 4,
   "metadata": {
    "collapsed": false
   },
   "outputs": [
    {
     "name": "stderr",
     "output_type": "stream",
     "text": [
      "/home/sean/anaconda/lib/python2.7/site-packages/IPython/core/interactiveshell.py:2717: DtypeWarning: Columns (22,32,34,49,55) have mixed types. Specify dtype option on import or set low_memory=False.\n",
      "  interactivity=interactivity, compiler=compiler, result=result)\n"
     ]
    },
    {
     "name": "stdout",
     "output_type": "stream",
     "text": [
      "(90275, 23)\n"
     ]
    }
   ],
   "source": [
    "prop  = pd.read_csv( 'data/properties_2016.csv' )\n",
    "trans = pd.read_csv( 'data/train_2016_v2.csv'   )\n",
    "\n",
    "my_df = pd.merge( prop, trans, on='parcelid', how='inner' )\n",
    "my_df = my_df[ use_list ]\n",
    "\n",
    "del prop\n",
    "del trans\n",
    "\n",
    "my_df['transactiondate' ] =   pd.to_datetime  ( my_df['transactiondate'] )\n",
    "my_df['time_since_built'] = ( pd.DatetimeIndex( my_df['transactiondate'] ).year - my_df['yearbuilt'] )\n",
    "my_df['ordinal_date'    ] =  [x.toordinal() for x in my_df['transactiondate']]\n",
    "my_df['day_of_week'     ] = ( my_df['ordinal_date'] - my_df['ordinal_date'].min() + 2 ) % 7\n",
    "\n",
    "my_df = my_df.drop( ['yearbuilt'], axis=1 )\n",
    "\n",
    "print my_df.shape"
   ]
  },
  {
   "cell_type": "code",
   "execution_count": 5,
   "metadata": {
    "collapsed": false
   },
   "outputs": [
    {
     "data": {
      "text/plain": [
       "array(['logerror', 'transactiondate', 'airconditioningtypeid',\n",
       "       'pooltypeid10', 'poolsizesum', 'garagetotalsqft',\n",
       "       'calculatedbathnbr', 'fireplacecnt', 'finishedsquarefeet12',\n",
       "       'lotsizesquarefeet', 'taxdelinquencyflag',\n",
       "       'structuretaxvaluedollarcnt', 'taxvaluedollarcnt',\n",
       "       'landtaxvaluedollarcnt', 'taxamount', 'decktypeid',\n",
       "       'numberofstories', 'buildingqualitytypeid', 'unitcnt', 'roomcnt',\n",
       "       'time_since_built', 'ordinal_date', 'day_of_week'], dtype=object)"
      ]
     },
     "execution_count": 5,
     "metadata": {},
     "output_type": "execute_result"
    }
   ],
   "source": [
    "my_df.columns.values"
   ]
  },
  {
   "cell_type": "code",
   "execution_count": 6,
   "metadata": {
    "collapsed": false
   },
   "outputs": [],
   "source": [
    "# Only flag which units have AC\n",
    "\n",
    "my_df['has_ac'] = 1\n",
    "\n",
    "my_df.ix[ my_df['airconditioningtypeid'].isnull(), ['has_ac'] ] = 0\n",
    "my_df.ix[ my_df['airconditioningtypeid'] == 5    , ['has_ac'] ] = 0\n",
    "\n",
    "my_df = my_df.drop( 'airconditioningtypeid', axis=1 )\n",
    "\n",
    "\n",
    "\n",
    "\n",
    "# Flag for has pool, has spa, size of pool\n",
    "\n",
    "my_df['has_spa'  ] = 0\n",
    "my_df['has_pool' ] = 0\n",
    "my_df['pool_sqft'] = 0\n",
    "\n",
    "my_df['has_spa'  ] = my_df['pooltypeid10'].fillna(0).astype(int)\n",
    "my_df['pool_sqft'] = my_df['poolsizesum' ]\n",
    "my_df['has_pool' ] =(my_df['poolsizesum' ] > 0).astype(int)\n",
    "\n",
    "my_df = my_df.drop( ['pooltypeid10','poolsizesum'], axis=1 )\n",
    "\n",
    "\n",
    "\n",
    "\n",
    "# Save the sqft in better variables\n",
    "\n",
    "my_df['unit_sqft'] = my_df['finishedsquarefeet12']\n",
    "my_df[ 'lot_sqft'] = my_df['lotsizesquarefeet'   ]\n",
    "\n",
    "my_df = my_df.drop( ['finishedsquarefeet12', 'lotsizesquarefeet'], axis=1 )\n",
    "\n",
    "\n",
    "\n",
    "\n",
    "\n",
    "# Flag for tax delinquency\n",
    "\n",
    "my_df['tax_delinquent'] = my_df['taxdelinquencyflag'].fillna(0).replace( {'Y', 1} )\n",
    "\n",
    "my_df = my_df.drop( 'taxdelinquencyflag', axis=1 )\n",
    "\n",
    "\n",
    "\n",
    "\n",
    "\n",
    "# Break building quality into categories\n",
    "\n",
    "my_df['building_quality_low' ] = 0\n",
    "my_df['building_quality_med' ] = 0\n",
    "my_df['building_quality_high'] = 0\n",
    "my_df['building_quality_unkn'] = 0\n",
    "\n",
    "my_df.ix[  my_df['buildingqualitytypeid'] < 4     , 'building_quality_high' ] = 1\n",
    "my_df.ix[  my_df['buildingqualitytypeid'] > 8     , 'building_quality_low'  ] = 1\n",
    "my_df.ix[ (my_df['buildingqualitytypeid'] > 3)    &\n",
    "        (  my_df['buildingqualitytypeid'] < 9)    , 'building_quality_med'  ] = 1\n",
    "my_df.ix[  my_df['buildingqualitytypeid'].isnull(), 'building_quality_unkn' ] = 1\n",
    "\n",
    "my_df = my_df.drop( 'buildingqualitytypeid', axis=1 )\n",
    "\n",
    "\n",
    "\n",
    "\n",
    "\n",
    "# Have flag for garage, and sqft variable\n",
    "\n",
    "my_df['has_garage' ] = 0\n",
    "my_df['garage_sqft'] = my_df['garagetotalsqft'].fillna(0)\n",
    "\n",
    "my_df.ix[ my_df['garagetotalsqft']>1, 'has_garage' ] = 1\n",
    "\n",
    "my_df = my_df.drop( 'garagetotalsqft', axis=1 )\n",
    "\n",
    "\n",
    "\n",
    "\n",
    "\n",
    "# 1 hot encode deck, var for number of fireplaces\n",
    "\n",
    "my_df['n_fireplaces'] = my_df['fireplacecnt'].fillna(0)\n",
    "my_df['has_deck'    ] = my_df['decktypeid'  ].notnull().astype(int)\n",
    "\n",
    "my_df = my_df.drop( ['fireplacecnt','decktypeid'], axis=1 )"
   ]
  },
  {
   "cell_type": "code",
   "execution_count": null,
   "metadata": {
    "collapsed": true
   },
   "outputs": [],
   "source": []
  },
  {
   "cell_type": "code",
   "execution_count": 7,
   "metadata": {
    "collapsed": false
   },
   "outputs": [
    {
     "data": {
      "text/plain": [
       "array(['logerror', 'transactiondate', 'calculatedbathnbr',\n",
       "       'structuretaxvaluedollarcnt', 'taxvaluedollarcnt',\n",
       "       'landtaxvaluedollarcnt', 'taxamount', 'numberofstories', 'unitcnt',\n",
       "       'roomcnt', 'time_since_built', 'ordinal_date', 'day_of_week',\n",
       "       'has_ac', 'has_spa', 'has_pool', 'pool_sqft', 'unit_sqft',\n",
       "       'lot_sqft', 'tax_delinquent', 'building_quality_low',\n",
       "       'building_quality_med', 'building_quality_high',\n",
       "       'building_quality_unkn', 'has_garage', 'garage_sqft',\n",
       "       'n_fireplaces', 'has_deck'], dtype=object)"
      ]
     },
     "execution_count": 7,
     "metadata": {},
     "output_type": "execute_result"
    }
   ],
   "source": [
    "my_df.columns.values"
   ]
  },
  {
   "cell_type": "code",
   "execution_count": null,
   "metadata": {
    "collapsed": true
   },
   "outputs": [],
   "source": []
  },
  {
   "cell_type": "code",
   "execution_count": null,
   "metadata": {
    "collapsed": true
   },
   "outputs": [],
   "source": []
  }
 ],
 "metadata": {
  "kernelspec": {
   "display_name": "Python 2",
   "language": "python",
   "name": "python2"
  },
  "language_info": {
   "codemirror_mode": {
    "name": "ipython",
    "version": 2
   },
   "file_extension": ".py",
   "mimetype": "text/x-python",
   "name": "python",
   "nbconvert_exporter": "python",
   "pygments_lexer": "ipython2",
   "version": "2.7.13"
  }
 },
 "nbformat": 4,
 "nbformat_minor": 2
}
